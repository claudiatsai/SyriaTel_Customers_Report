{
 "cells": [
  {
   "cell_type": "markdown",
   "id": "4ff5256f",
   "metadata": {},
   "source": [
    "# SyriaTel Customer Churn Machine Learning Models"
   ]
  },
  {
   "cell_type": "markdown",
   "id": "a25d8cf1",
   "metadata": {},
   "source": [
    "# Business Problem\n",
    "\n",
    "- Currently SyrialTel has customer churn rate 14% ,which is higher than other carriers' churn rate\n",
    "- Need to build a model to predict customers who are most likely to cease the subscription\n",
    "- How to foster customer loyalty in order to build stable revenue?\n",
    "\n",
    "\n",
    "\n",
    "#other carriers' churn rate \n",
    "https://www.statista.com/statistics/283511/average-monthly-churn-rate-top-wireless-carriers-us/"
   ]
  },
  {
   "cell_type": "markdown",
   "id": "59c06b9c",
   "metadata": {},
   "source": [
    "# Data"
   ]
  },
  {
   "cell_type": "markdown",
   "id": "20d7c880",
   "metadata": {},
   "source": [
    "- SyriaTel provided a dataset containing 3333 customers business information\n",
    "- 21 Features in the dataset\n"
   ]
  },
  {
   "attachments": {},
   "cell_type": "markdown",
   "id": "6a31aece",
   "metadata": {},
   "source": [
    "\n",
    "<img src=\"image/churn.png\" />"
   ]
  },
  {
   "cell_type": "markdown",
   "id": "7cf066ae",
   "metadata": {},
   "source": [
    "# Methods"
   ]
  },
  {
   "cell_type": "markdown",
   "id": "56c2af36",
   "metadata": {},
   "source": [
    "- Check if any missing values and convert boolean columns data into binary data\n",
    "- Use Logistics Regression as baseline model\n",
    "- Use SMOTE to improve the performance of imbalanced dataset\n",
    "- Use different types of models to evaluate\n",
    "- Choose the best model and tune the parameters\n",
    "- Use final model to identify customer churn\n",
    "- Looked through the importance features in the final model\n"
   ]
  },
  {
   "cell_type": "markdown",
   "id": "ccfcbdbf",
   "metadata": {},
   "source": [
    "# Baseline Model"
   ]
  },
  {
   "cell_type": "markdown",
   "id": "b5474bf0",
   "metadata": {},
   "source": [
    "- Recall score : 0.89\n",
    "- Accuracy score: 0.67"
   ]
  },
  {
   "attachments": {},
   "cell_type": "markdown",
   "id": "311cf2cb",
   "metadata": {},
   "source": [
    "\n",
    "<img src=\"image/baseline.png\" />"
   ]
  },
  {
   "cell_type": "markdown",
   "id": "b06847fc",
   "metadata": {},
   "source": [
    "# Final Model"
   ]
  },
  {
   "cell_type": "markdown",
   "id": "ceaef229",
   "metadata": {},
   "source": [
    "- Recall score: 0.84\n",
    "- Accuracy score: 0.96"
   ]
  },
  {
   "attachments": {},
   "cell_type": "markdown",
   "id": "872baefb",
   "metadata": {},
   "source": [
    "<img src=\"image/finalmodel.png\" />"
   ]
  },
  {
   "cell_type": "markdown",
   "id": "1c175705",
   "metadata": {},
   "source": [
    "# Feature Importance"
   ]
  },
  {
   "cell_type": "markdown",
   "id": "392be741",
   "metadata": {},
   "source": [
    "#### First 4  highest weight in the dataset\n",
    "- Customer service calls\n",
    "- Total day minutes\n",
    "- Voicemail plan\n",
    "- International plan"
   ]
  },
  {
   "attachments": {},
   "cell_type": "markdown",
   "id": "84603575",
   "metadata": {},
   "source": [
    "<img src=\"image/feature_importance.png\" />"
   ]
  },
  {
   "cell_type": "markdown",
   "id": "2697806b",
   "metadata": {},
   "source": [
    "# Conclusions"
   ]
  },
  {
   "cell_type": "markdown",
   "id": "db430d4a",
   "metadata": {},
   "source": [
    "- Use the final model to predict the customer churn rate, 84% customer churn will be predicted, with accuracy 96% \n",
    "- Conduct customer complaint analysis\n",
    "- Improve the voicemail plan and international plan services\n",
    "- Review rates, minutes and charges for all plan"
   ]
  },
  {
   "cell_type": "markdown",
   "id": "643ad4e2",
   "metadata": {},
   "source": [
    "# Furthermore"
   ]
  },
  {
   "cell_type": "markdown",
   "id": "8bdaacac",
   "metadata": {},
   "source": [
    "- Provide surveys after customer service calls to see if customers problems got solved\n",
    "- Send emails or use website to customers who are likely to discontinue the service\n"
   ]
  },
  {
   "cell_type": "code",
   "execution_count": null,
   "id": "f263de71",
   "metadata": {},
   "outputs": [],
   "source": []
  }
 ],
 "metadata": {
  "kernelspec": {
   "display_name": "Python 3 (ipykernel)",
   "language": "python",
   "name": "python3"
  },
  "language_info": {
   "codemirror_mode": {
    "name": "ipython",
    "version": 3
   },
   "file_extension": ".py",
   "mimetype": "text/x-python",
   "name": "python",
   "nbconvert_exporter": "python",
   "pygments_lexer": "ipython3",
   "version": "3.9.7"
  },
  "toc": {
   "base_numbering": "",
   "nav_menu": {},
   "number_sections": false,
   "sideBar": true,
   "skip_h1_title": false,
   "title_cell": "Table of Contents",
   "title_sidebar": "Contents",
   "toc_cell": false,
   "toc_position": {
    "height": "calc(100% - 180px)",
    "left": "10px",
    "top": "150px",
    "width": "270.390625px"
   },
   "toc_section_display": true,
   "toc_window_display": true
  }
 },
 "nbformat": 4,
 "nbformat_minor": 5
}
